{
 "cells": [
  {
   "cell_type": "code",
   "execution_count": null,
   "id": "a574c75b-61b9-4d9c-b8ae-2820b1a83489",
   "metadata": {
    "tags": []
   },
   "outputs": [
    {
     "name": "stdout",
     "output_type": "stream",
     "text": [
      "Epoch 1/10\n",
      "\u001b[1m125/125\u001b[0m \u001b[32m━━━━━━━━━━━━━━━━━━━━\u001b[0m\u001b[37m\u001b[0m \u001b[1m0s\u001b[0m 492us/step - loss: 0.1868\n",
      "Epoch 2/10\n",
      "\u001b[1m125/125\u001b[0m \u001b[32m━━━━━━━━━━━━━━━━━━━━\u001b[0m\u001b[37m\u001b[0m \u001b[1m0s\u001b[0m 444us/step - loss: 0.0540\n",
      "Epoch 3/10\n",
      "\u001b[1m125/125\u001b[0m \u001b[32m━━━━━━━━━━━━━━━━━━━━\u001b[0m\u001b[37m\u001b[0m \u001b[1m0s\u001b[0m 446us/step - loss: 0.0258\n",
      "Epoch 4/10\n",
      "\u001b[1m125/125\u001b[0m \u001b[32m━━━━━━━━━━━━━━━━━━━━\u001b[0m\u001b[37m\u001b[0m \u001b[1m0s\u001b[0m 547us/step - loss: 0.0109\n",
      "Epoch 5/10\n",
      "\u001b[1m125/125\u001b[0m \u001b[32m━━━━━━━━━━━━━━━━━━━━\u001b[0m\u001b[37m\u001b[0m \u001b[1m0s\u001b[0m 468us/step - loss: 0.0027\n",
      "Epoch 6/10\n",
      "\u001b[1m125/125\u001b[0m \u001b[32m━━━━━━━━━━━━━━━━━━━━\u001b[0m\u001b[37m\u001b[0m \u001b[1m0s\u001b[0m 459us/step - loss: 0.0010\n",
      "Epoch 7/10\n",
      "\u001b[1m125/125\u001b[0m \u001b[32m━━━━━━━━━━━━━━━━━━━━\u001b[0m\u001b[37m\u001b[0m \u001b[1m0s\u001b[0m 446us/step - loss: 6.2687e-04\n",
      "Epoch 8/10\n",
      "\u001b[1m125/125\u001b[0m \u001b[32m━━━━━━━━━━━━━━━━━━━━\u001b[0m\u001b[37m\u001b[0m \u001b[1m0s\u001b[0m 447us/step - loss: 7.7517e-04\n",
      "Epoch 9/10\n",
      "\u001b[1m125/125\u001b[0m \u001b[32m━━━━━━━━━━━━━━━━━━━━\u001b[0m\u001b[37m\u001b[0m \u001b[1m0s\u001b[0m 441us/step - loss: 6.8972e-04\n",
      "Epoch 10/10\n",
      "\u001b[1m125/125\u001b[0m \u001b[32m━━━━━━━━━━━━━━━━━━━━\u001b[0m\u001b[37m\u001b[0m \u001b[1m0s\u001b[0m 441us/step - loss: 8.2401e-04\n",
      "\u001b[1m32/32\u001b[0m \u001b[32m━━━━━━━━━━━━━━━━━━━━\u001b[0m\u001b[37m\u001b[0m \u001b[1m0s\u001b[0m 2ms/step \n"
     ]
    }
   ],
   "source": [
    "import numpy as np\n",
    "import pandas as pd\n",
    "import tensorflow as tf\n",
    "from tensorflow.keras.models import Sequential\n",
    "from tensorflow.keras.layers import LSTM, Dense\n",
    "import xgboost as xgb\n",
    "from sklearn.model_selection import train_test_split\n",
    "from statsmodels.tsa.arima.model import ARIMA\n",
    "from sklearn.preprocessing import MinMaxScaler\n",
    "\n",
    "data = pd.read_csv(\"/Users/uppalavenkatesh/Documents/StockMarketData.csv\") \n",
    "scaler = MinMaxScaler(feature_range=(0, 1))\n",
    "data[\"StockValue\"] = scaler.fit_transform(data[\"StockValue\"].values.reshape(-1, 1))\n",
    "X_lstm = data[\"StockValue\"].values.reshape(-1, 1)\n",
    "y_lstm = data[\"StockValue\"].shift(-1).dropna()  \n",
    "X_lstm = X_lstm[:-1]  \n",
    "\n",
    "X_lstm_train, X_lstm_test, y_lstm_train, y_lstm_test = train_test_split(X_lstm, y_lstm, test_size=0.2, shuffle=False)\n",
    "\n",
    "\n",
    "model_lstm = Sequential([\n",
    "    tf.keras.Input(shape=(X_lstm_train.shape[1], 1)),  \n",
    "    LSTM(50, activation='relu'),\n",
    "    Dense(1)\n",
    "])\n",
    "model_lstm.compile(optimizer='adam', loss='mse')\n",
    "model_lstm.fit(X_lstm_train, y_lstm_train, epochs=10, verbose=1)\n",
    "lstm_preds = model_lstm.predict(X_lstm_test)\n",
    "arima_model = ARIMA(data[\"StockValue\"], order=(5, 1, 0))  \n",
    "arima_model_fit = arima_model.fit()\n",
    "arima_forecast = arima_model_fit.forecast(steps=len(y_lstm_test))\n",
    "\n",
    "X_xgb = data[\"StockValue\"].values.reshape(-1, 1)  \n",
    "y_xgb = data[\"StockValue\"].shift(-1).dropna()  \n",
    "X_xgb = X_xgb[:-1]  \n",
    "\n",
    "X_xgb_train, X_xgb_test, y_xgb_train, y_xgb_test = train_test_split(X_xgb, y_xgb, test_size=0.2, shuffle=False)\n",
    "xgb_model = xgb.XGBRegressor(objective=\"reg:squarederror\", n_estimators=100, max_depth=3)\n",
    "xgb_model.fit(X_xgb_train, y_xgb_train)\n",
    "xgb_preds = xgb_model.predict(X_xgb_test)\n",
    "\n",
    "lstm_preds = lstm_preds[-50:].flatten()  \n",
    "arima_forecast = np.array(arima_forecast[-50:]).flatten() \n",
    "xgb_preds = xgb_preds[-50:].flatten()  \n",
    "dates = data[\"Date\"][-50:].reset_index(drop=True)\n",
    "actual_values = data[\"StockValue\"][-50:].reset_index(drop=True)\n",
    "\n",
    "\n",
    "pred_df = pd.DataFrame({\n",
    "    \"Date\": dates,  \n",
    "    \"Actual_StockValue\": actual_values,\n",
    "    \"LSTM_Prediction\": lstm_preds,\n",
    "    \"ARIMA_Prediction\": arima_forecast,\n",
    "    \"XGBoost_Prediction\": xgb_preds\n",
    "})\n",
    "pred_df.to_csv(\"StockModelPredictions.csv\", index=False)\n",
    "print(\"Predictions saved successfully!\")\n"
   ]
  },
  {
   "cell_type": "code",
   "execution_count": null,
   "id": "ba3071b7-e086-4468-9c04-74a79e4b308f",
   "metadata": {},
   "outputs": [],
   "source": []
  }
 ],
 "metadata": {
  "kernelspec": {
   "display_name": "Python 3 (ipykernel)",
   "language": "python",
   "name": "python3"
  },
  "language_info": {
   "codemirror_mode": {
    "name": "ipython",
    "version": 3
   },
   "file_extension": ".py",
   "mimetype": "text/x-python",
   "name": "python",
   "nbconvert_exporter": "python",
   "pygments_lexer": "ipython3",
   "version": "3.11.5"
  }
 },
 "nbformat": 4,
 "nbformat_minor": 5
}
